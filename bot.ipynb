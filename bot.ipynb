{
 "cells": [
  {
   "cell_type": "code",
   "execution_count": 41,
   "id": "3d734829",
   "metadata": {},
   "outputs": [],
   "source": [
    "import os\n",
    "import json\n",
    "from dotenv import load_dotenv\n",
    "from langchain_community.embeddings import HuggingFaceEmbeddings\n",
    "from langchain.text_splitter import RecursiveCharacterTextSplitter\n",
    "from langchain_community.vectorstores import FAISS\n",
    "from langchain_community.llms import HuggingFaceHub\n",
    "from langchain.llms import CTransformers\n",
    "from langchain.chains import RetrievalQA\n",
    "from huggingface_hub import login\n",
    "\n",
    "from langchain.prompts import PromptTemplate\n"
   ]
  },
  {
   "cell_type": "code",
   "execution_count": 42,
   "id": "ba6b76ef",
   "metadata": {},
   "outputs": [],
   "source": [
    "load_dotenv()\n",
    "hf_api_key = os.getenv('HUGGINGFACEHUB_API_TOKEN')\n",
    "login(token=hf_api_key)"
   ]
  },
  {
   "cell_type": "code",
   "execution_count": 43,
   "id": "3b66c104",
   "metadata": {},
   "outputs": [],
   "source": [
    "with open('candidates.json', 'r') as f:\n",
    "    data = json.load(f)"
   ]
  },
  {
   "cell_type": "code",
   "execution_count": 44,
   "id": "faeb3278",
   "metadata": {},
   "outputs": [],
   "source": [
    "candidate_docs = []\n",
    "for emp in data['employees']:\n",
    "    doc = (\n",
    "        f\"{emp['name']} has {emp['experience_years']} years of experience. \"\n",
    "        f\"Skills: {', '.join(emp['skills'])}. \"\n",
    "        f\"Projects: {', '.join(emp['projects'])}. \"\n",
    "        f\"Availability: {emp['availability']}.\"\n",
    "    )\n",
    "    candidate_docs.append(doc)"
   ]
  },
  {
   "cell_type": "code",
   "execution_count": 45,
   "id": "bdc7f273",
   "metadata": {},
   "outputs": [],
   "source": [
    "text_splitter = RecursiveCharacterTextSplitter(chunk_size=512, chunk_overlap=50)\n",
    "documents = text_splitter.create_documents(candidate_docs)"
   ]
  },
  {
   "cell_type": "code",
   "execution_count": 46,
   "id": "018ef11b",
   "metadata": {},
   "outputs": [],
   "source": [
    "embeddings = HuggingFaceEmbeddings(model_name='sentence-transformers/all-MiniLM-L6-v2')\n",
    "vector_db = FAISS.from_documents(documents, embeddings)\n",
    "retriever = vector_db.as_retriever(search_kwargs={\"k\": 2})\n"
   ]
  },
  {
   "cell_type": "code",
   "execution_count": 47,
   "id": "da2de498",
   "metadata": {},
   "outputs": [
    {
     "name": "stderr",
     "output_type": "stream",
     "text": [
      "Fetching 1 files: 100%|██████████| 1/1 [00:00<?, ?it/s]\n",
      "Fetching 1 files: 100%|██████████| 1/1 [00:00<00:00, 15.89it/s]\n"
     ]
    }
   ],
   "source": [
    "llm = CTransformers(model=\"TheBloke/Mistral-7B-Instruct-v0.1-GGUF\", model_type=\"mistral\")"
   ]
  },
  {
   "cell_type": "code",
   "execution_count": null,
   "id": "9cddf3c9",
   "metadata": {},
   "outputs": [],
   "source": [
    "custom_prompt = PromptTemplate(\n",
    "    input_variables=[\"context\", \"question\"],\n",
    "    template=\"\"\"\n",
    "You are an HR assistant. Based on the following context about available candidates, answer the user's request with a warm, structured, human-like recommendation listing the top candidates with their details.\n",
    "\n",
    "Context:\n",
    "{context}\n",
    "\n",
    "User Request:\n",
    "{question}\n",
    "\n",
    "Answer in this format:\n",
    "\"Based on your requirements for <requirements>, I found an excellent candidates:\n",
    "1) <Name>...\n",
    "2) <Name>...\n",
    "Both have the technical depth and domain expertise you need. Would you like me to provide more details about their specific projects or check their availability for meetings?\"\n",
    "\"\"\"\n",
    ")"
   ]
  },
  {
   "cell_type": "code",
   "execution_count": 49,
   "id": "c069ee1b",
   "metadata": {},
   "outputs": [],
   "source": [
    "qa_chain = RetrievalQA.from_chain_type(\n",
    "    llm=llm,\n",
    "    retriever=retriever,\n",
    "    chain_type_kwargs={\"prompt\": custom_prompt}\n",
    ")\n"
   ]
  },
  {
   "cell_type": "code",
   "execution_count": 50,
   "id": "9047eeb4",
   "metadata": {},
   "outputs": [],
   "source": [
    "def ask_hr_bot(query):\n",
    "    response = qa_chain.run(query)\n",
    "    return response"
   ]
  },
  {
   "cell_type": "code",
   "execution_count": 53,
   "id": "db54fe3c",
   "metadata": {},
   "outputs": [
    {
     "name": "stdout",
     "output_type": "stream",
     "text": [
      "\n",
      "Answer:\n",
      "Based on your requirements for a physics teacher with 3+ years of experience, I found X excellent candidates:\n",
      "1) Vivaan Gupta - He has 2 years of experience and skills in React Native, JavaScript, UI/UX. He's worked on Fitness App and Online Learning App projects. He's available now.\n",
      "2) Divya Shetty - She also has 2 years of experience and skills in React, JavaScript, UI/UX. She's worked on Job Portal Frontend project. She's available now.\n",
      "Both have the technical depth and domain expertise you need. Would you like me to provide more details about their specific projects or check their availability for meetings?\n"
     ]
    }
   ],
   "source": [
    "print(ask_hr_bot('Find physics teacher with 3+ years experience'))"
   ]
  },
  {
   "cell_type": "code",
   "execution_count": null,
   "id": "5668dc87",
   "metadata": {},
   "outputs": [],
   "source": []
  },
  {
   "cell_type": "code",
   "execution_count": null,
   "id": "bed10a0e",
   "metadata": {},
   "outputs": [],
   "source": []
  }
 ],
 "metadata": {
  "kernelspec": {
   "display_name": "Python 3",
   "language": "python",
   "name": "python3"
  },
  "language_info": {
   "codemirror_mode": {
    "name": "ipython",
    "version": 3
   },
   "file_extension": ".py",
   "mimetype": "text/x-python",
   "name": "python",
   "nbconvert_exporter": "python",
   "pygments_lexer": "ipython3",
   "version": "3.10.16"
  }
 },
 "nbformat": 4,
 "nbformat_minor": 5
}
